{
 "cells": [
  {
   "cell_type": "code",
   "execution_count": 1,
   "id": "e3933742-1bb0-4ca5-8ff4-54e5377f2169",
   "metadata": {},
   "outputs": [],
   "source": [
    "import os\n",
    "import numpy as np\n",
    "import matplotlib.pyplot as plt\n",
    "\n",
    "from prepare_hess_dataset_large_hdf5 import MyDataset\n",
    "\n",
    "import torch\n",
    "from torch import Tensor\n",
    "import torch.distributed as dist\n",
    "import torch.multiprocessing as mp\n",
    "import torch.nn.functional as F\n",
    "from torch.nn.parallel import DistributedDataParallel\n",
    "from torch.nn import Linear \n",
    "from torch.nn import BatchNorm1d, Linear, Dropout\n",
    "\n",
    "from torch_geometric.data import Data\n",
    "from torch_geometric.nn import GCNConv\n",
    "from torch_geometric.nn import global_mean_pool\n",
    "from torch_geometric.loader import DataLoader, DataListLoader\n",
    "from torch_geometric.nn import TAGConv, global_add_pool, global_max_pool\n",
    "\n",
    "from pytorch_lightning.core.lightning import LightningModule\n",
    "from GNN import GNN\n",
    "from hess_gnn_large_dataset_single_gpu import GCN\n",
    "from sklearn.metrics import roc_curve, auc"
   ]
  },
  {
   "cell_type": "code",
   "execution_count": 2,
   "id": "2c01c03b-97f2-4d8f-a1f5-386f658bd705",
   "metadata": {},
   "outputs": [],
   "source": [
    "torch.cuda.empty_cache()"
   ]
  },
  {
   "cell_type": "code",
   "execution_count": 3,
   "id": "efccbd65-780d-483b-8248-e42488367ec0",
   "metadata": {},
   "outputs": [],
   "source": [
    "models_base_dir = '/home/woody/caph/mppi067h/gamma_ray_reconstruction_with_ml/gnn/trained_models_single_gpu2/'\n",
    "plots_dir = '/home/woody/caph/mppi067h/gamma_ray_reconstruction_with_ml/gnn/plots/'"
   ]
  },
  {
   "cell_type": "code",
   "execution_count": 4,
   "id": "8bbecbea-277b-48ff-9b7e-1bd060d17fb0",
   "metadata": {},
   "outputs": [
    {
     "data": {
      "text/plain": [
       "device(type='cuda')"
      ]
     },
     "execution_count": 4,
     "metadata": {},
     "output_type": "execute_result"
    }
   ],
   "source": [
    "device = torch.device('cuda' if torch.cuda.is_available() else 'cpu')\n",
    "device"
   ]
  },
  {
   "cell_type": "code",
   "execution_count": 5,
   "id": "a5c7ec86-be8b-4e09-bc5a-f91e74382351",
   "metadata": {},
   "outputs": [
    {
     "data": {
      "text/plain": [
       "GCN(\n",
       "  (conv1): TAGConv(3, 128, K=2)\n",
       "  (conv2): TAGConv(128, 128, K=2)\n",
       "  (conv3): TAGConv(128, 128, K=2)\n",
       "  (batchnorm1): BatchNorm1d(768, eps=1e-05, momentum=0.1, affine=True, track_running_stats=True)\n",
       "  (linear1): Linear(in_features=768, out_features=768, bias=True)\n",
       "  (linear2): Linear(in_features=768, out_features=768, bias=True)\n",
       "  (linear3): Linear(in_features=768, out_features=768, bias=True)\n",
       "  (linear4): Linear(in_features=768, out_features=768, bias=True)\n",
       "  (linear5): Linear(in_features=768, out_features=768, bias=True)\n",
       "  (drop1): Dropout(p=0.3, inplace=False)\n",
       "  (drop2): Dropout(p=0.3, inplace=False)\n",
       "  (drop3): Dropout(p=0.3, inplace=False)\n",
       "  (drop4): Dropout(p=0.3, inplace=False)\n",
       "  (drop5): Dropout(p=0.3, inplace=False)\n",
       "  (out): Linear(in_features=768, out_features=1, bias=True)\n",
       ")"
      ]
     },
     "execution_count": 5,
     "metadata": {},
     "output_type": "execute_result"
    }
   ],
   "source": [
    "model = GCN(nb_inputs=3, nb_outputs=1).to(device)\n",
    "model.load_state_dict(torch.load(models_base_dir + 'model_28_loss0.02_tr0.99_te0.98.pth',map_location=torch.device(device)))\n",
    "model.eval()"
   ]
  },
  {
   "cell_type": "code",
   "execution_count": 6,
   "id": "a831b020-a654-4a7c-9114-af076023b800",
   "metadata": {},
   "outputs": [],
   "source": [
    "indir = '/home/woody/caph/mppi067h/gamma_ray_reconstruction_with_ml/gnn/phase2d2_bbruno_large/'\n",
    "outdir = '/home/woody/caph/mppi067h/gamma_ray_reconstruction_with_ml/gnn/phase2d2_dataset_large'\n",
    "dataset_name = 'test'"
   ]
  },
  {
   "cell_type": "code",
   "execution_count": 7,
   "id": "b7787d1c-b189-4182-875d-7f1d4fb6151f",
   "metadata": {},
   "outputs": [],
   "source": [
    "dataset = MyDataset(outdir,dataset_name,indir,1)\n",
    "batch_size = 64"
   ]
  },
  {
   "cell_type": "code",
   "execution_count": 8,
   "id": "efa645a7-c062-4206-878e-42058e8189ac",
   "metadata": {},
   "outputs": [
    {
     "name": "stdout",
     "output_type": "stream",
     "text": [
      "Test Acc: 0.9851\n"
     ]
    }
   ],
   "source": [
    "correct = 0 \n",
    "total_samples = 0\n",
    "out_pred_list = list()\n",
    "out_label_list = list()\n",
    "cr_types = ['gamma','proton']\n",
    "for idx in range(30,35):\n",
    "    test_dataset = list()\n",
    "    for cr_type in cr_types:\n",
    "        test_dataset += dataset.get(cr_type,idx)\n",
    "    test_loader = DataLoader(test_dataset, batch_size=batch_size, shuffle=False)\n",
    "    for bidx, data in enumerate(test_loader):  # Iterate in batches over the training/test dataset.\n",
    "        data = data.to(device)\n",
    "        out = model(data)\n",
    "        pred = torch.round(torch.sigmoid(out))\n",
    "        out_pred_list.append(torch.sigmoid(out).detach()) #we don't wanna round this \n",
    "        correct += int((pred == data.y.unsqueeze(1)).sum())\n",
    "        out_label_list.append(data.y.detach())\n",
    "    total_samples += len(test_loader.dataset)\n",
    "test_acc = correct/total_samples\n",
    "print(f'Test Acc: {test_acc:.4f}')\n",
    "out_pred = torch.cat(out_pred_list,0).squeeze()\n",
    "out_label = torch.cat(out_label_list,0)"
   ]
  },
  {
   "cell_type": "code",
   "execution_count": 9,
   "id": "1e9154be-86ce-4276-942b-efc43fb12e73",
   "metadata": {},
   "outputs": [],
   "source": [
    "test_pred = out_pred.cpu().detach().numpy()\n",
    "test_label = out_label.cpu().detach().numpy()"
   ]
  },
  {
   "cell_type": "code",
   "execution_count": 10,
   "id": "85e2215f-73c5-4ad3-911e-9741289095bc",
   "metadata": {},
   "outputs": [
    {
     "data": {
      "image/png": "[encoded data removed]",
      "text/plain": [
       "<Figure size 432x288 with 1 Axes>"
      ]
     },
     "metadata": {
      "needs_background": "light"
     },
     "output_type": "display_data"
    }
   ],
   "source": [
    "plt.hist(test_pred[test_label==0], bins=100, label='Proton', histtype='step', lw=2);\n",
    "plt.hist(test_pred[test_label==1], bins=100, label='Gamma', histtype='step', lw=2);\n",
    "plt.yscale('log')\n",
    "plt.ylabel('# Events')\n",
    "plt.xlabel('classifier value')\n",
    "plt.legend(loc='upper center')\n",
    "plt.savefig(plots_dir+'classifier_output.pdf',bbox_inches='tight')\n",
    "plt.savefig(plots_dir+'classifier_output.png',bbox_inches='tight')"
   ]
  },
  {
   "cell_type": "code",
   "execution_count": 13,
   "id": "20a09217-3a29-4859-b408-4a31bf61e029",
   "metadata": {},
   "outputs": [
    {
     "data": {
      "image/png": "[encoded data removed]",
      "text/plain": [
       "<Figure size 432x288 with 1 Axes>"
      ]
     },
     "metadata": {
      "needs_background": "light"
     },
     "output_type": "display_data"
    }
   ],
   "source": [
    "fpr, tpr, thresholds = roc_curve(test_label, test_pred)\n",
    "roc_auc_train = auc(fpr, tpr)\n",
    "plt.figure()\n",
    "plt.plot(fpr, tpr, label=\"ROC curve (area = %0.3f)\" % roc_auc_train)\n",
    "plt.plot([0.001, 1], [0.001, 1], color=\"navy\", linestyle=\"--\")\n",
    "plt.xlim([1.e-4, 1.0])\n",
    "plt.xlabel(\"False Positive Rate\")\n",
    "plt.ylabel(\"True Positive Rate\")\n",
    "plt.legend(loc=\"lower right\")\n",
    "plt.title('Test dataset')\n",
    "plt.savefig(plots_dir+'roc_curve.pdf',bbox_inches='tight')\n",
    "plt.savefig(plots_dir+'roc_curve.png',bbox_inches='tight')"
   ]
  },
  {
   "cell_type": "code",
   "execution_count": null,
   "id": "7cb8b07d-1048-4f6c-aacb-16c46cbc6a37",
   "metadata": {},
   "outputs": [],
   "source": []
  }
 ],
 "metadata": {
  "kernelspec": {
   "display_name": "Python 3 (ipykernel)",
   "language": "python",
   "name": "python3"
  },
  "language_info": {
   "codemirror_mode": {
    "name": "ipython",
    "version": 3
   },
   "file_extension": ".py",
   "mimetype": "text/x-python",
   "name": "python",
   "nbconvert_exporter": "python",
   "pygments_lexer": "ipython3",
   "version": "3.9.7"
  }
 },
 "nbformat": 4,
 "nbformat_minor": 5
}
