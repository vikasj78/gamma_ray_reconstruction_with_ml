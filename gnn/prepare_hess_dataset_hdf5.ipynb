{
 "cells": [
  {
   "cell_type": "code",
   "execution_count": 1,
   "id": "c239a99e-234b-4295-8f91-581c6c738b52",
   "metadata": {},
   "outputs": [],
   "source": [
    "import os\n",
    "import glob\n",
    "import numpy as np\n",
    "import pandas as pd\n",
    "import h5py\n",
    "import time\n",
    "import tables as tb\n",
    "from matplotlib import pyplot as plt\n",
    "import itertools as it\n",
    "import torch\n",
    "from torch_geometric.data import Data\n",
    "\n",
    "import torch\n",
    "from torch_geometric.data import InMemoryDataset"
   ]
  },
  {
   "cell_type": "markdown",
   "id": "3c0f887b-5029-4632-8dc2-870611f05954",
   "metadata": {},
   "source": [
    "#### let's define the dataset class"
   ]
  },
  {
   "cell_type": "code",
   "execution_count": 2,
   "id": "bc263ca6-81a0-466c-8643-cebfd879cac5",
   "metadata": {
    "tags": []
   },
   "outputs": [],
   "source": [
    "class MyDataset(InMemoryDataset):\n",
    "    def __init__(self, root, name, data_list=None, transform=None):\n",
    "        self.data_list = data_list\n",
    "        self.name = name\n",
    "        super().__init__(root, transform)\n",
    "        self.data, self.slices = torch.load(self.processed_paths[0])\n",
    "\n",
    "    @property\n",
    "    def processed_file_names(self):\n",
    "        return 'data.pt'\n",
    "\n",
    "    @property\n",
    "    def num_node_labels(self) -> int:\n",
    "        if self.data.x is None:\n",
    "            return 0\n",
    "        for i in range(self.data.x.size(1)):\n",
    "            x = self.data.x[:, i:]\n",
    "            if ((x == 0) | (x == 1)).all() and (x.sum(dim=1) == 1).all():\n",
    "                return self.data.x.size(1) - i\n",
    "        return 0\n",
    "\n",
    "    @property\n",
    "    def num_node_attributes(self) -> int:\n",
    "        if self.data.x is None:\n",
    "            return 0\n",
    "        return self.data.x.size(1) - self.num_node_labels\n",
    "\n",
    "    @property\n",
    "    def num_edge_labels(self) -> int:\n",
    "        if self.data.edge_attr is None:\n",
    "            return 0\n",
    "        for i in range(self.data.edge_attr.size(1)):\n",
    "            if self.data.edge_attr[:, i:].sum() == self.data.edge_attr.size(0):\n",
    "                return self.data.edge_attr.size(1) - i\n",
    "        return 0\n",
    "\n",
    "    @property\n",
    "    def num_edge_attributes(self) -> int:\n",
    "        if self.data.edge_attr is None:\n",
    "            return 0\n",
    "        return self.data.edge_attr.size(1) - self.num_edge_labels\n",
    "\n",
    "    def process(self):\n",
    "        torch.save(self.collate(self.data_list), self.processed_paths[0])\n",
    "        \n",
    "    def __repr__(self) -> str:\n",
    "        return f'{self.name}({len(self)})'"
   ]
  },
  {
   "cell_type": "code",
   "execution_count": 3,
   "id": "d5b538d9-d017-4dd6-8341-74d72c5f50e1",
   "metadata": {},
   "outputs": [],
   "source": [
    "cr_type = ['gamma','proton','electron']\n",
    "folder_in = '/home/saturn/caph/mpp228/HESS_data/HESS_data_MC/sim_telarray/phase2d/NSB1.00/Desert/Proton_Electron_Gamma-diffuse/20deg/180deg/0.0deg-ws0/Data_h5'\n",
    "f_list_gamma = glob.glob(folder_in + f'/{cr_type[0]}*')\n",
    "f_list_proton = glob.glob(folder_in + f'/{cr_type[1]}*')"
   ]
  },
  {
   "cell_type": "code",
   "execution_count": null,
   "id": "02daf167-dede-4d0b-8c00-c2e541aeb00e",
   "metadata": {
    "jupyter": {
     "source_hidden": true
    },
    "tags": []
   },
   "outputs": [],
   "source": [
    "for group in fin.walk_groups():\n",
    "    print(group)"
   ]
  },
  {
   "cell_type": "code",
   "execution_count": 137,
   "id": "23a67f05-4668-4a50-878e-7fa9da1fb624",
   "metadata": {
    "collapsed": true,
    "jupyter": {
     "outputs_hidden": true,
     "source_hidden": true
    },
    "tags": []
   },
   "outputs": [
    {
     "name": "stdout",
     "output_type": "stream",
     "text": [
      "/ (RootGroup) ''\n",
      "/configuration (Group) ''\n",
      "/dl1 (Group) ''\n",
      "/simulation (Group) ''\n",
      "/configuration/instrument (Group) ''\n",
      "/configuration/simulation (Group) ''\n",
      "/dl1/event (Group) ''\n",
      "/dl1/monitoring (Group) ''\n",
      "/simulation/event (Group) ''\n",
      "/simulation/event/subarray (Group) ''\n",
      "/simulation/event/telescope (Group) ''\n",
      "/simulation/event/subarray/shower (Table(1602,), fletcher32, shuffle, blosc:zstd(5)) 'Storage of EventIndexContainer,SimulatedShowerContainer'\n",
      "/simulation/event/telescope/images (Group) ''\n",
      "/simulation/event/telescope/parameters (Group) ''\n",
      "/simulation/event/telescope/images/tel_001 (Table(530,), fletcher32, shuffle, blosc:zstd(5)) 'Storage of TelEventIndexContainer,SimulatedCameraContainer'\n",
      "/simulation/event/telescope/images/tel_002 (Table(535,), fletcher32, shuffle, blosc:zstd(5)) 'Storage of TelEventIndexContainer,SimulatedCameraContainer'\n",
      "/simulation/event/telescope/images/tel_003 (Table(573,), fletcher32, shuffle, blosc:zstd(5)) 'Storage of TelEventIndexContainer,SimulatedCameraContainer'\n",
      "/simulation/event/telescope/images/tel_004 (Table(558,), fletcher32, shuffle, blosc:zstd(5)) 'Storage of TelEventIndexContainer,SimulatedCameraContainer'\n",
      "/simulation/event/telescope/images/tel_005 (Table(1339,), fletcher32, shuffle, blosc:zstd(5)) 'Storage of TelEventIndexContainer,SimulatedCameraContainer'\n",
      "/simulation/event/telescope/parameters/tel_001 (Table(530,), fletcher32, shuffle, blosc:zstd(5)) 'Storage of TelEventIndexContainer,CameraHillasParametersContainer,TimingParametersContainer,LeakageContainer,ConcentrationContainer,MorphologyContainer,IntensityStatisticsContainer,PeakTimeStatisticsContainer,CoreParametersContainer'\n",
      "/simulation/event/telescope/parameters/tel_002 (Table(535,), fletcher32, shuffle, blosc:zstd(5)) 'Storage of TelEventIndexContainer,CameraHillasParametersContainer,TimingParametersContainer,LeakageContainer,ConcentrationContainer,MorphologyContainer,IntensityStatisticsContainer,PeakTimeStatisticsContainer,CoreParametersContainer'\n",
      "/simulation/event/telescope/parameters/tel_003 (Table(573,), fletcher32, shuffle, blosc:zstd(5)) 'Storage of TelEventIndexContainer,CameraHillasParametersContainer,TimingParametersContainer,LeakageContainer,ConcentrationContainer,MorphologyContainer,IntensityStatisticsContainer,PeakTimeStatisticsContainer,CoreParametersContainer'\n",
      "/simulation/event/telescope/parameters/tel_004 (Table(558,), fletcher32, shuffle, blosc:zstd(5)) 'Storage of TelEventIndexContainer,CameraHillasParametersContainer,TimingParametersContainer,LeakageContainer,ConcentrationContainer,MorphologyContainer,IntensityStatisticsContainer,PeakTimeStatisticsContainer,CoreParametersContainer'\n",
      "/simulation/event/telescope/parameters/tel_005 (Table(1339,), fletcher32, shuffle, blosc:zstd(5)) 'Storage of TelEventIndexContainer,CameraHillasParametersContainer,TimingParametersContainer,LeakageContainer,ConcentrationContainer,MorphologyContainer,IntensityStatisticsContainer,PeakTimeStatisticsContainer,CoreParametersContainer'\n",
      "/dl1/event/subarray (Group) ''\n",
      "/dl1/event/telescope (Group) ''\n",
      "/dl1/monitoring/subarray (Group) ''\n",
      "/dl1/monitoring/telescope (Group) ''\n",
      "/dl1/monitoring/subarray/pointing (Table(1,), fletcher32, shuffle, blosc:zstd(5)) 'Storage of TriggerContainer,PointingContainer'\n",
      "/dl1/monitoring/telescope/pointing (Group) ''\n",
      "/dl1/monitoring/telescope/pointing/tel_001 (Table(1,), fletcher32, shuffle, blosc:zstd(5)) 'Storage of TelescopeTriggerContainer,TelescopePointingContainer'\n",
      "/dl1/monitoring/telescope/pointing/tel_002 (Table(1,), fletcher32, shuffle, blosc:zstd(5)) 'Storage of TelescopeTriggerContainer,TelescopePointingContainer'\n",
      "/dl1/monitoring/telescope/pointing/tel_003 (Table(1,), fletcher32, shuffle, blosc:zstd(5)) 'Storage of TelescopeTriggerContainer,TelescopePointingContainer'\n",
      "/dl1/monitoring/telescope/pointing/tel_004 (Table(1,), fletcher32, shuffle, blosc:zstd(5)) 'Storage of TelescopeTriggerContainer,TelescopePointingContainer'\n",
      "/dl1/monitoring/telescope/pointing/tel_005 (Table(1,), fletcher32, shuffle, blosc:zstd(5)) 'Storage of TelescopeTriggerContainer,TelescopePointingContainer'\n",
      "/dl1/event/subarray/trigger (Table(1602,), fletcher32, shuffle, blosc:zstd(5)) 'Storage of EventIndexContainer,TriggerContainer'\n",
      "/dl1/event/telescope/images (Group) ''\n",
      "/dl1/event/telescope/parameters (Group) ''\n",
      "/dl1/event/telescope/trigger (Table(3535,), fletcher32, shuffle, blosc:zstd(5)) 'Storage of TelEventIndexContainer,TelescopeTriggerContainer'\n",
      "/dl1/event/telescope/images/tel_001 (Table(530,), fletcher32, shuffle, blosc:zstd(5)) 'Storage of TelEventIndexContainer,DL1CameraContainer'\n",
      "/dl1/event/telescope/images/tel_002 (Table(535,), fletcher32, shuffle, blosc:zstd(5)) 'Storage of TelEventIndexContainer,DL1CameraContainer'\n",
      "/dl1/event/telescope/images/tel_003 (Table(573,), fletcher32, shuffle, blosc:zstd(5)) 'Storage of TelEventIndexContainer,DL1CameraContainer'\n",
      "/dl1/event/telescope/images/tel_004 (Table(558,), fletcher32, shuffle, blosc:zstd(5)) 'Storage of TelEventIndexContainer,DL1CameraContainer'\n",
      "/dl1/event/telescope/images/tel_005 (Table(1339,), fletcher32, shuffle, blosc:zstd(5)) 'Storage of TelEventIndexContainer,DL1CameraContainer'\n",
      "/dl1/event/telescope/parameters/tel_001 (Table(530,), fletcher32, shuffle, blosc:zstd(5)) 'Storage of TelEventIndexContainer,CameraHillasParametersContainer,TimingParametersContainer,LeakageContainer,ConcentrationContainer,MorphologyContainer,IntensityStatisticsContainer,PeakTimeStatisticsContainer,CoreParametersContainer'\n",
      "/dl1/event/telescope/parameters/tel_002 (Table(535,), fletcher32, shuffle, blosc:zstd(5)) 'Storage of TelEventIndexContainer,CameraHillasParametersContainer,TimingParametersContainer,LeakageContainer,ConcentrationContainer,MorphologyContainer,IntensityStatisticsContainer,PeakTimeStatisticsContainer,CoreParametersContainer'\n",
      "/dl1/event/telescope/parameters/tel_003 (Table(573,), fletcher32, shuffle, blosc:zstd(5)) 'Storage of TelEventIndexContainer,CameraHillasParametersContainer,TimingParametersContainer,LeakageContainer,ConcentrationContainer,MorphologyContainer,IntensityStatisticsContainer,PeakTimeStatisticsContainer,CoreParametersContainer'\n",
      "/dl1/event/telescope/parameters/tel_004 (Table(558,), fletcher32, shuffle, blosc:zstd(5)) 'Storage of TelEventIndexContainer,CameraHillasParametersContainer,TimingParametersContainer,LeakageContainer,ConcentrationContainer,MorphologyContainer,IntensityStatisticsContainer,PeakTimeStatisticsContainer,CoreParametersContainer'\n",
      "/dl1/event/telescope/parameters/tel_005 (Table(1339,), fletcher32, shuffle, blosc:zstd(5)) 'Storage of TelEventIndexContainer,CameraHillasParametersContainer,TimingParametersContainer,LeakageContainer,ConcentrationContainer,MorphologyContainer,IntensityStatisticsContainer,PeakTimeStatisticsContainer,CoreParametersContainer'\n",
      "/configuration/instrument/subarray (Group) ''\n",
      "/configuration/instrument/telescope (Group) ''\n",
      "/configuration/simulation/run (Table(1,), fletcher32, shuffle, blosc:zstd(5)) 'Storage of ExtraSimInfo,SimulationConfigContainer'\n",
      "/configuration/instrument/subarray/layout (Table(5,)) ''\n",
      "/configuration/instrument/subarray/layout.__table_column_meta__ (Array(17,)) ''\n",
      "/configuration/instrument/telescope/camera (Group) ''\n",
      "/configuration/instrument/telescope/optics (Table(2,)) ''\n",
      "/configuration/instrument/telescope/optics.__table_column_meta__ (Array(14,)) ''\n",
      "/configuration/instrument/telescope/camera/geometry_HESS-I (Table(960,)) ''\n",
      "/configuration/instrument/telescope/camera/geometry_HESS-I.__table_column_meta__ (Array(6,)) ''\n",
      "/configuration/instrument/telescope/camera/geometry_HESS-II (Table(1764,)) ''\n",
      "/configuration/instrument/telescope/camera/geometry_HESS-II.__table_column_meta__ (Array(6,)) ''\n",
      "/configuration/instrument/telescope/camera/readout_HESS-I (Table(880,)) ''\n",
      "/configuration/instrument/telescope/camera/readout_HESS-I.__table_column_meta__ (Array(5,)) ''\n",
      "/configuration/instrument/telescope/camera/readout_HESS-II (Table(1480,)) ''\n",
      "/configuration/instrument/telescope/camera/readout_HESS-II.__table_column_meta__ (Array(5,)) ''\n"
     ]
    }
   ],
   "source": [
    "for node in fin.walk_nodes():\n",
    "    print(node)"
   ]
  },
  {
   "cell_type": "markdown",
   "id": "3bfdb79f-0eda-4922-932b-a68516f4874e",
   "metadata": {},
   "source": [
    "#### Get the tel nodes and geometries"
   ]
  },
  {
   "cell_type": "code",
   "execution_count": 4,
   "id": "e957d0eb-0543-4c55-85fd-949eb4365831",
   "metadata": {},
   "outputs": [],
   "source": [
    "def get_hess_geom(fin):\n",
    "    hess1_cam = fin.get_node('/configuration/instrument/telescope/camera/geometry_HESS-I')\n",
    "    hess2_cam = fin.get_node('/configuration/instrument/telescope/camera/geometry_HESS-II')\n",
    "    hess1_cam_geom_xc = hess1_cam.col('pix_x')\n",
    "    hess1_cam_geom_yc = hess1_cam.col('pix_y')\n",
    "    hess2_cam_geom_xc = hess2_cam.col('pix_x')\n",
    "    hess2_cam_geom_yc = hess2_cam.col('pix_y')\n",
    "    tel_loc = {'ct1': np.array([-0.16, -85.04, 0.97])*100, #x, y, z in cm\n",
    "               'ct2': np.array([85.07, -0.37, 0.33])*100,\n",
    "               'ct3': np.array([0.24, 85.04, -0.82])*100,\n",
    "               'ct4': np.array([-85.04, 0.28, -0.48])*100,\n",
    "               'ct5': np.array([0., 0., 0.])*100}\n",
    "    cam_pixels_in_array = dict()\n",
    "    #calculate pixel coordinates from the center of the array - no z axis at the moment\n",
    "    for tel in tel_loc.keys():\n",
    "        if(tel != 'ct5'):\n",
    "            cam_pixels_in_array[tel] = np.array([tel_loc[tel][0] + hess1_cam_geom_xc, tel_loc[tel][1] + hess1_cam_geom_yc])\n",
    "        elif(tel == 'ct5'):\n",
    "            cam_pixels_in_array[tel] = np.array([tel_loc[tel][0] + hess2_cam_geom_xc, tel_loc[tel][1] + hess2_cam_geom_yc])\n",
    "        else:\n",
    "            print(\"what kind of camera is that! please check\")\n",
    "    return cam_pixels_in_array"
   ]
  },
  {
   "cell_type": "markdown",
   "id": "f43f48a0-26de-4189-89b0-e6ba4f4e5bc1",
   "metadata": {},
   "source": [
    "#### Get the telescope nodes and store them"
   ]
  },
  {
   "cell_type": "code",
   "execution_count": 5,
   "id": "ac0f7283-ba44-48b2-9ad0-b6b44b169fa2",
   "metadata": {},
   "outputs": [],
   "source": [
    "def get_tel_nodes(fin):\n",
    "    tel_nodes = dict()\n",
    "    for inum, node in enumerate(fin.get_node('/dl1/event/telescope/images')):\n",
    "        tel_name = f'ct{inum+1}'\n",
    "        tel_nodes[tel_name] = node\n",
    "    return tel_nodes"
   ]
  },
  {
   "cell_type": "code",
   "execution_count": null,
   "id": "583a8c8c-087b-42ad-93d9-72a967f7b404",
   "metadata": {
    "collapsed": true,
    "jupyter": {
     "outputs_hidden": true,
     "source_hidden": true
    },
    "tags": []
   },
   "outputs": [
    {
     "data": {
      "text/plain": [
       "array([[ True,  True,  True,  True,  True]])"
      ]
     },
     "execution_count": 117,
     "metadata": {},
     "output_type": "execute_result"
    }
   ],
   "source": [
    "trig_events = fin.get_node('/dl1/event/subarray/trigger')\n",
    "trig_events.read_where(f'(obs_id == {9050}) & (event_id == {5908115})')['tels_with_trigger']"
   ]
  },
  {
   "cell_type": "code",
   "execution_count": 29,
   "id": "327f0d3c-1d66-47d1-871f-476363d540b9",
   "metadata": {
    "collapsed": true,
    "jupyter": {
     "outputs_hidden": true,
     "source_hidden": true
    },
    "tags": []
   },
   "outputs": [
    {
     "data": {
      "text/plain": [
       "2"
      ]
     },
     "execution_count": 29,
     "metadata": {},
     "output_type": "execute_result"
    }
   ],
   "source": [
    "tel_nodes['ct3'].read_where(f'(obs_id == {9050}) & (event_id == {5908115})')['image'].shape[0]"
   ]
  },
  {
   "cell_type": "code",
   "execution_count": 30,
   "id": "6fff2310-a9f7-4c90-b1b9-8e99f94fa4b9",
   "metadata": {
    "jupyter": {
     "source_hidden": true
    },
    "tags": []
   },
   "outputs": [],
   "source": [
    "test = tel_nodes['ct3'].read_where(f'(obs_id == {9050}) & (event_id == {5908115})')['image'][0]"
   ]
  },
  {
   "cell_type": "code",
   "execution_count": 32,
   "id": "5468473d-f394-48ac-a678-c82ba967ce19",
   "metadata": {
    "collapsed": true,
    "jupyter": {
     "outputs_hidden": true,
     "source_hidden": true
    },
    "tags": []
   },
   "outputs": [
    {
     "data": {
      "text/plain": [
       "960"
      ]
     },
     "execution_count": 32,
     "metadata": {},
     "output_type": "execute_result"
    },
    {
     "name": "stderr",
     "output_type": "stream",
     "text": [
      "Closing remaining open files:/home/saturn/caph/mpp228/HESS_data/HESS_data_MC/sim_telarray/phase2d/NSB1.00/Desert/Proton_Electron_Gamma-diffuse/20deg/180deg/0.0deg-ws0/Data_h5/gamma_20deg_180deg_run9050___phase2d2_desert-ws0-nsb1.00_cone5.h5...done/home/saturn/caph/mpp228/HESS_data/HESS_data_MC/sim_telarray/phase2d/NSB1.00/Desert/Proton_Electron_Gamma-diffuse/20deg/180deg/0.0deg-ws0/Data_h5/gamma_20deg_180deg_run9050___phase2d2_desert-ws0-nsb1.00_cone5.h5...done\n"
     ]
    }
   ],
   "source": [
    "test.shape[0]"
   ]
  },
  {
   "cell_type": "code",
   "execution_count": 17,
   "id": "09584349-850e-4365-9e60-01c136b5b389",
   "metadata": {
    "collapsed": true,
    "jupyter": {
     "outputs_hidden": true,
     "source_hidden": true
    },
    "tags": []
   },
   "outputs": [
    {
     "data": {
      "text/plain": [
       "array([[False, False,  True, False,  True]])"
      ]
     },
     "execution_count": 17,
     "metadata": {},
     "output_type": "execute_result"
    }
   ],
   "source": [
    "fin.get_node('/dl1/event/subarray/trigger').read_where(f'(obs_id == {9050}) & (event_id == {7933520})')['tels_with_trigger']"
   ]
  },
  {
   "cell_type": "code",
   "execution_count": 12,
   "id": "b3b8f1dd-a2cb-444f-8dcf-d8c613c00628",
   "metadata": {
    "collapsed": true,
    "jupyter": {
     "outputs_hidden": true,
     "source_hidden": true
    },
    "tags": []
   },
   "outputs": [
    {
     "name": "stdout",
     "output_type": "stream",
     "text": [
      "filename:  /home/saturn/caph/mpp228/HESS_data/HESS_data_MC/sim_telarray/phase2d/NSB1.00/Desert/Proton_Electron_Gamma-diffuse/20deg/180deg/0.0deg-ws0/Data_h5/gamma_20deg_180deg_run9050___phase2d2_desert-ws0-nsb1.00_cone5.h5\n",
      "[]\n"
     ]
    }
   ],
   "source": [
    "print('filename: ', fns_in[0])\n",
    "fin = tb.open_file(fns_in[0], mode=\"r\")\n",
    "pe = list()\n",
    "x = list()\n",
    "y = list()\n",
    "#1305 9050 7933520 ct3\n",
    "obs_id = 9050\n",
    "event_id = 7933520\n",
    "for tel_num, tel in enumerate(fin.get_node('/dl1/event/subarray/trigger').read_where(f'(obs_id == {obs_id}) & (event_id == {event_id})')['tels_with_trigger'].flatten()):\n",
    "    print(tel)\n",
    "    if(tel and tel_num < 4): #only doing ct1-4 for now, just for testing..\n",
    "        tel_name = f'ct{tel_num+1}'\n",
    "        image = tel_nodes[tel_name].read_where(f'(obs_id == {obs_id}) & (event_id == {event_id})')['image'].flatten()\n",
    "        print(image)\n",
    "        if (image.sum() < 100):\n",
    "            continue\n",
    "        pix_pe_theshold_mask = image > 5    \n",
    "        pe.append(image[pix_pe_theshold_mask])\n",
    "        if (tel_num == 2):\n",
    "            print('tel_name:', tel_name, 'image shape:', image.shape)\n",
    "        x.append(cam_pixels_in_array[tel_name][0][pix_pe_theshold_mask])\n",
    "        y.append(cam_pixels_in_array[tel_name][1][pix_pe_theshold_mask])"
   ]
  },
  {
   "cell_type": "markdown",
   "id": "ea9f171d-b34a-4161-a034-7d9fb9a52ba0",
   "metadata": {},
   "source": [
    "#### Now we loop over triggered events in the file and prepare a data list"
   ]
  },
  {
   "cell_type": "code",
   "execution_count": 6,
   "id": "d4dfb474-51ef-4f3c-9e10-0ea482fc82fd",
   "metadata": {
    "tags": []
   },
   "outputs": [],
   "source": [
    "def get_data_list(fin, cam_pixels_in_array, tel_nodes, cr_type):\n",
    "    data_list = list()\n",
    "    trig_events = fin.get_node('/dl1/event/subarray/trigger')\n",
    "    count = 0\n",
    "    for ev_num,ev in enumerate(trig_events):\n",
    "        obs_id = ev['obs_id']\n",
    "        event_id = ev['event_id']\n",
    "        #print(ev_num, obs_id, event_id)\n",
    "        pe = list()\n",
    "        x = list()\n",
    "        y = list()\n",
    "        for tel_num, tel in enumerate(ev['tels_with_trigger']):\n",
    "            if(tel and tel_num < 4): #only doing ct1-4 for now, just for testing..\n",
    "                tel_name = f'ct{tel_num+1}'\n",
    "                #print(ev_num, obs_id, event_id, tel_name)\n",
    "                image = tel_nodes[tel_name].read_where(f'(obs_id == {obs_id}) & (event_id == {event_id})')['image']\n",
    "                #print(image.shape)\n",
    "                if (image.shape[0] == 0): #don't know why it is stored as triggered than!\n",
    "                    continue\n",
    "                elif (image.shape[0] > 1): #don't know why this happens at all as well.\n",
    "                    image = image[0]\n",
    "                    #print('> 1', image.shape)\n",
    "                if (image.sum() < 100):\n",
    "                    continue\n",
    "                image = image.flatten()\n",
    "                if (image.shape[0] != cam_pixels_in_array[tel_name][0].shape[0]):\n",
    "                    count += 1\n",
    "                    print(\"this should not happen a bug in h5 file\", tel_name, 'image_shape:', image.shape[0], cam_pixels_in_array[tel_name][0].shape)\n",
    "                    continue\n",
    "\n",
    "                pix_pe_theshold_mask = image > 5\n",
    "                pe.append(image[pix_pe_theshold_mask])\n",
    "                x.append(cam_pixels_in_array[tel_name][0][pix_pe_theshold_mask])\n",
    "                y.append(cam_pixels_in_array[tel_name][1][pix_pe_theshold_mask])\n",
    "                #print(image[pix_pe_theshold_mask].shape, tel_name)\n",
    "        if not pe:\n",
    "            continue\n",
    "        pe = np.concatenate(pe).flatten()\n",
    "        x = np.concatenate(x).flatten()\n",
    "        y = np.concatenate(y).flatten()\n",
    "        #print(pe.shape, x.shape, y.shape)\n",
    "        if(np.sum(pe) > 1000):\n",
    "            max_pe = np.max(pe)\n",
    "            max_pe_index = np.argmax(pe)\n",
    "            #let's define the connections (edges) between the nodes here\n",
    "            edges = []\n",
    "            #Two pixels in any of the cameras have the differece from the highest measured signal of less than < pe_level\n",
    "            #The idea is these signals are coming from the same part of the shower\n",
    "            for sig in range(len(pe)):\n",
    "                ratio_pe = pe[sig]/max_pe\n",
    "                if (ratio_pe > 0.9 and ratio_pe < 1):\n",
    "                    edges.append([max_pe_index,sig])\n",
    "            possible_edge_comb = list(it.combinations(np.unique(np.arange(len(pe))),2))\n",
    "\n",
    "            for i, j in possible_edge_comb:\n",
    "                dist = np.sqrt((x[j]-x[i])*(x[j]-x[i]) + (y[j]-y[i])*(y[j]-y[i]))\n",
    "                #connection is defined if:\n",
    "                #The two pixels which has seen light are < 10 cm from each other\n",
    "                #10 cm is random for now..\n",
    "                if (dist > 1.e-2 and dist < 10):\n",
    "                    edges.append([i,j])\n",
    "            edge_index = torch.tensor(np.array(edges), dtype=torch.long)\n",
    "            #print(edge_index.shape)\n",
    "            nodes = torch.t(torch.tensor(np.array((x,y,pe)), dtype=torch.float))\n",
    "            if(np.array(edges).max() > len(pe)):\n",
    "                print('smothing is not right', np.array(edges).max(), len(pe))\n",
    "                print(np.array(edges), pe)\n",
    "                break\n",
    "            if(cr_type == 'gamma'):\n",
    "                data = Data(x=nodes, edge_index=edge_index.t().contiguous(), y=1)\n",
    "            else:\n",
    "                data = Data(x=nodes, edge_index=edge_index.t().contiguous(), y=0)\n",
    "            data_list.append(data)\n",
    "    return data_list"
   ]
  },
  {
   "cell_type": "code",
   "execution_count": null,
   "id": "d26ca388-b275-4310-8c8b-abe08352e6e3",
   "metadata": {},
   "outputs": [],
   "source": [
    "%%time\n",
    "gamma_data_list = list()\n",
    "for file_in in f_list_gamma[0:10]:\n",
    "    fin = tb.open_file(file_in, mode=\"r\")\n",
    "    gamma_data_list += get_data_list(fin, get_hess_geom(fin), get_tel_nodes(fin), 'gamma')\n",
    "\n",
    "proton_data_list = list()\n",
    "for file_in in f_list_proton[0:10]:\n",
    "    fin = tb.open_file(file_in, mode=\"r\")\n",
    "    proton_data_list += get_data_list(fin, get_hess_geom(fin), get_tel_nodes(fin), 'proton')\n",
    "final_data_list = gamma_data_list + proton_data_list"
   ]
  },
  {
   "cell_type": "code",
   "execution_count": null,
   "id": "947726f5-4683-4156-867b-342578dc152c",
   "metadata": {},
   "outputs": [],
   "source": [
    "len(final_data_list)"
   ]
  },
  {
   "cell_type": "code",
   "execution_count": null,
   "id": "abde41ef-ebef-44e2-9ff9-0f949590e9d8",
   "metadata": {},
   "outputs": [],
   "source": [
    "dataset = MyDataset('/home/woody/caph/mppi067h/gamma_ray_reconstruction_with_ml/gnn/hdf5_10cm_1000pe','test',final_data_list)\n",
    "dataset.process()"
   ]
  },
  {
   "cell_type": "code",
   "execution_count": 78,
   "id": "ba9fe031-3e55-4ddb-a3b8-09588e0fae2a",
   "metadata": {},
   "outputs": [
    {
     "data": {
      "text/plain": [
       "(40,)"
      ]
     },
     "execution_count": 78,
     "metadata": {},
     "output_type": "execute_result"
    }
   ],
   "source": [
    "image[image > 2].shape"
   ]
  },
  {
   "cell_type": "code",
   "execution_count": 75,
   "id": "5f2d7c5d-0d2f-4214-9fe6-f73c99ba1638",
   "metadata": {},
   "outputs": [
    {
     "data": {
      "text/plain": [
       "(1, 960)"
      ]
     },
     "execution_count": 75,
     "metadata": {},
     "output_type": "execute_result"
    }
   ],
   "source": [
    "image.shape"
   ]
  },
  {
   "cell_type": "code",
   "execution_count": null,
   "id": "8eae5fd2-d0b6-4742-af8b-8fa7cc0d24fe",
   "metadata": {},
   "outputs": [],
   "source": []
  }
 ],
 "metadata": {
  "kernelspec": {
   "display_name": "Python 3 (ipykernel)",
   "language": "python",
   "name": "python3"
  },
  "language_info": {
   "codemirror_mode": {
    "name": "ipython",
    "version": 3
   },
   "file_extension": ".py",
   "mimetype": "text/x-python",
   "name": "python",
   "nbconvert_exporter": "python",
   "pygments_lexer": "ipython3",
   "version": "3.9.7"
  }
 },
 "nbformat": 4,
 "nbformat_minor": 5
}
